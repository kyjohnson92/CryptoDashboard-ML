{
 "cells": [
  {
   "cell_type": "code",
   "execution_count": 39,
   "metadata": {
    "collapsed": true
   },
   "outputs": [],
   "source": [
    "import numpy as np\n",
    "import pandas as pd\n",
    "import matplotlib.pyplot as plt\n",
    "import json\n",
    "import requests\n",
    "from datetime import datetime, date\n",
    "from time import mktime\n",
    "import mysql.connector\n",
    "import pymysql\n",
    "from sqlalchemy import create_engine"
   ]
  },
  {
   "cell_type": "code",
   "execution_count": 57,
   "metadata": {
    "collapsed": true
   },
   "outputs": [],
   "source": [
    "\n",
    "#date to start query\n",
    "start = date(2012, 1,2)\n",
    "unix_start = str(int(mktime(start.timetuple()))) +'/'\n",
    "\n",
    "#date to end query\n",
    "end = date(2018,10, 1)\n",
    "unix_end = str(int(mktime(end.timetuple()))) \n",
    "\n",
    "#api url\n",
    "url = 'https://coinmetrics.io/api/v1/get_asset_data_for_time_range/'\n",
    "\n",
    "#coin ticker\n",
    "coin = 'btc/'\n",
    "\n",
    "#data to be retreived\n",
    "data_type_price = 'price(usd)/'\n",
    "data_type_mcap = 'marketcan(usd)/'\n",
    "\n",
    "#api call\n",
    "coin_data = requests.get( url + coin+'/' + data_type + str(unix_start) + str(unix_end))"
   ]
  },
  {
   "cell_type": "code",
   "execution_count": 65,
   "metadata": {
    "collapsed": true
   },
   "outputs": [],
   "source": [
    "coin_list = ['btc','eth', 'eos']\n",
    "\n",
    "new_df = pd.DataFrame(None)\n",
    "\n",
    "#converting json object\n",
    "'''data = coin_data.json()\n",
    "data = pd.DataFrame(data)\n",
    "data = pd.DataFrame(data['result'].values.tolist(), columns=['Date','Price'])'''\n",
    "\n",
    "for i in coin_list:\n",
    "\n",
    "        coin_prices = requests.get( url + i+ '/' + data_type_price + str(unix_start) + str(unix_end))\n",
    "        price_data = coin_prices.json()\n",
    "        \n",
    "        coin_mcap = requests.get( url + i+ '/' + data_type_mcap + str(unix_start) + str(unix_end))\n",
    "        mcap_data = coin_mcap.json()\n",
    "        \n",
    "        price_df = pd.DataFrame(price_data)\n",
    "        mcap_df = pd.DataFrame(mcap_data)\n",
    "        \n",
    "        price_df = pd.DataFrame(price_df['result'].values.tolist(), columns=['date',i+'_price'])\n",
    "        mcap_df = pd.DataFrame(mcap_df['result'].values.tolist(), columns=['date',i+'_market_cap'])\n",
    "        \n",
    "        if new_df.empty:\n",
    "            new_df = price_df.merge(mcap_df, on =\"date\")\n",
    "        else:\n",
    "            new_df = pd.merge(new_df, price_df, on =\"date\", how='outer')\n",
    "            new_df = pd.merge(new_df, mcap_df, on =\"date\", how='outer')\n",
    "            \n",
    "new_df['date'] = pd.to_datetime(new_df['date'],unit='s')\n",
    "new_df = new_df.set_index('date')"
   ]
  },
  {
   "cell_type": "code",
   "execution_count": 54,
   "metadata": {},
   "outputs": [
    {
     "name": "stderr",
     "output_type": "stream",
     "text": [
      "C:\\ProgramData\\Anaconda3\\lib\\site-packages\\pymysql\\cursors.py:166: Warning: (1287, \"'@@tx_isolation' is deprecated and will be removed in a future release. Please use '@@transaction_isolation' instead\")\n",
      "  result = self._query(query)\n"
     ]
    }
   ],
   "source": [
    "#create connection to mysql\n",
    "host=\"localhost\"\n",
    "user=\"root\"\n",
    "passwd=\"password\"\n",
    "port = 3306\n",
    "database = 'mydatabase'\n",
    "engine = create_engine('mysql+pymysql://' + user + ':' + passwd + '@' + host + ':' + str(port) + '/' + database, echo=False)\n",
    "\n",
    "#create sql table from dataframe\n",
    "new_df.to_sql(name='cryptocurrency', con = engine, if_exists = 'append')\n",
    "\n"
   ]
  },
  {
   "cell_type": "code",
   "execution_count": 49,
   "metadata": {
    "scrolled": true
   },
   "outputs": [
    {
     "data": {
      "text/html": [
       "<div>\n",
       "<style scoped>\n",
       "    .dataframe tbody tr th:only-of-type {\n",
       "        vertical-align: middle;\n",
       "    }\n",
       "\n",
       "    .dataframe tbody tr th {\n",
       "        vertical-align: top;\n",
       "    }\n",
       "\n",
       "    .dataframe thead th {\n",
       "        text-align: right;\n",
       "    }\n",
       "</style>\n",
       "<table border=\"1\" class=\"dataframe\">\n",
       "  <thead>\n",
       "    <tr style=\"text-align: right;\">\n",
       "      <th></th>\n",
       "      <th>btc</th>\n",
       "      <th>eth</th>\n",
       "      <th>eos</th>\n",
       "    </tr>\n",
       "    <tr>\n",
       "      <th>date</th>\n",
       "      <th></th>\n",
       "      <th></th>\n",
       "      <th></th>\n",
       "    </tr>\n",
       "  </thead>\n",
       "  <tbody>\n",
       "    <tr>\n",
       "      <th>2018-09-24</th>\n",
       "      <td>6704.77</td>\n",
       "      <td>244.84</td>\n",
       "      <td>6.02</td>\n",
       "    </tr>\n",
       "    <tr>\n",
       "      <th>2018-09-25</th>\n",
       "      <td>6603.64</td>\n",
       "      <td>228.33</td>\n",
       "      <td>5.68</td>\n",
       "    </tr>\n",
       "    <tr>\n",
       "      <th>2018-09-26</th>\n",
       "      <td>6452.79</td>\n",
       "      <td>218.65</td>\n",
       "      <td>5.39</td>\n",
       "    </tr>\n",
       "    <tr>\n",
       "      <th>2018-09-27</th>\n",
       "      <td>6495.29</td>\n",
       "      <td>215.44</td>\n",
       "      <td>5.56</td>\n",
       "    </tr>\n",
       "    <tr>\n",
       "      <th>2018-09-28</th>\n",
       "      <td>6678.75</td>\n",
       "      <td>229.04</td>\n",
       "      <td>5.83</td>\n",
       "    </tr>\n",
       "  </tbody>\n",
       "</table>\n",
       "</div>"
      ],
      "text/plain": [
       "                btc     eth   eos\n",
       "date                             \n",
       "2018-09-24  6704.77  244.84  6.02\n",
       "2018-09-25  6603.64  228.33  5.68\n",
       "2018-09-26  6452.79  218.65  5.39\n",
       "2018-09-27  6495.29  215.44  5.56\n",
       "2018-09-28  6678.75  229.04  5.83"
      ]
     },
     "execution_count": 49,
     "metadata": {},
     "output_type": "execute_result"
    }
   ],
   "source": [
    "new_df.tail()"
   ]
  },
  {
   "cell_type": "code",
   "execution_count": 50,
   "metadata": {},
   "outputs": [
    {
     "data": {
      "text/html": [
       "<div>\n",
       "<style scoped>\n",
       "    .dataframe tbody tr th:only-of-type {\n",
       "        vertical-align: middle;\n",
       "    }\n",
       "\n",
       "    .dataframe tbody tr th {\n",
       "        vertical-align: top;\n",
       "    }\n",
       "\n",
       "    .dataframe thead th {\n",
       "        text-align: right;\n",
       "    }\n",
       "</style>\n",
       "<table border=\"1\" class=\"dataframe\">\n",
       "  <thead>\n",
       "    <tr style=\"text-align: right;\">\n",
       "      <th></th>\n",
       "      <th>btc</th>\n",
       "      <th>eth</th>\n",
       "      <th>eos</th>\n",
       "    </tr>\n",
       "  </thead>\n",
       "  <tbody>\n",
       "    <tr>\n",
       "      <th>count</th>\n",
       "      <td>1980.000000</td>\n",
       "      <td>1149.000000</td>\n",
       "      <td>455.000000</td>\n",
       "    </tr>\n",
       "    <tr>\n",
       "      <th>mean</th>\n",
       "      <td>2167.766813</td>\n",
       "      <td>214.427927</td>\n",
       "      <td>6.412013</td>\n",
       "    </tr>\n",
       "    <tr>\n",
       "      <th>std</th>\n",
       "      <td>3422.900432</td>\n",
       "      <td>285.509394</td>\n",
       "      <td>4.680861</td>\n",
       "    </tr>\n",
       "    <tr>\n",
       "      <th>min</th>\n",
       "      <td>68.500000</td>\n",
       "      <td>0.431589</td>\n",
       "      <td>0.492790</td>\n",
       "    </tr>\n",
       "    <tr>\n",
       "      <th>25%</th>\n",
       "      <td>311.112500</td>\n",
       "      <td>9.660000</td>\n",
       "      <td>1.775000</td>\n",
       "    </tr>\n",
       "    <tr>\n",
       "      <th>50%</th>\n",
       "      <td>586.075000</td>\n",
       "      <td>18.500000</td>\n",
       "      <td>6.020000</td>\n",
       "    </tr>\n",
       "    <tr>\n",
       "      <th>75%</th>\n",
       "      <td>1986.175000</td>\n",
       "      <td>337.960000</td>\n",
       "      <td>9.235000</td>\n",
       "    </tr>\n",
       "    <tr>\n",
       "      <th>max</th>\n",
       "      <td>19475.800000</td>\n",
       "      <td>1397.480000</td>\n",
       "      <td>21.640000</td>\n",
       "    </tr>\n",
       "  </tbody>\n",
       "</table>\n",
       "</div>"
      ],
      "text/plain": [
       "                btc          eth         eos\n",
       "count   1980.000000  1149.000000  455.000000\n",
       "mean    2167.766813   214.427927    6.412013\n",
       "std     3422.900432   285.509394    4.680861\n",
       "min       68.500000     0.431589    0.492790\n",
       "25%      311.112500     9.660000    1.775000\n",
       "50%      586.075000    18.500000    6.020000\n",
       "75%     1986.175000   337.960000    9.235000\n",
       "max    19475.800000  1397.480000   21.640000"
      ]
     },
     "execution_count": 50,
     "metadata": {},
     "output_type": "execute_result"
    }
   ],
   "source": [
    "new_df.describe()"
   ]
  },
  {
   "cell_type": "code",
   "execution_count": 41,
   "metadata": {
    "collapsed": true,
    "scrolled": false
   },
   "outputs": [],
   "source": []
  },
  {
   "cell_type": "code",
   "execution_count": null,
   "metadata": {
    "collapsed": true,
    "scrolled": true
   },
   "outputs": [],
   "source": []
  },
  {
   "cell_type": "code",
   "execution_count": null,
   "metadata": {
    "collapsed": true
   },
   "outputs": [],
   "source": []
  }
 ],
 "metadata": {
  "kernelspec": {
   "display_name": "Python 3",
   "language": "python",
   "name": "python3"
  },
  "language_info": {
   "codemirror_mode": {
    "name": "ipython",
    "version": 3
   },
   "file_extension": ".py",
   "mimetype": "text/x-python",
   "name": "python",
   "nbconvert_exporter": "python",
   "pygments_lexer": "ipython3",
   "version": "3.6.2"
  }
 },
 "nbformat": 4,
 "nbformat_minor": 2
}

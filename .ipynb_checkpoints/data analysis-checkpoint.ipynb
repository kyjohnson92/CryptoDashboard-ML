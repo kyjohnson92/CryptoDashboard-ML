{
 "cells": [
  {
   "cell_type": "code",
   "execution_count": 2,
   "metadata": {
    "collapsed": true
   },
   "outputs": [],
   "source": [
    "import numpy as np\n",
    "import pandas as pd\n",
    "\n",
    "import json\n",
    "import requests\n",
    "from datetime import datetime, date\n",
    "from time import mktime\n",
    "import mysql.connector\n",
    "import pymysql\n",
    "from sqlalchemy import create_engine\n",
    "import matplotlib.pyplot as plt\n",
    "%matplotlib inline"
   ]
  },
  {
   "cell_type": "code",
   "execution_count": 3,
   "metadata": {
    "collapsed": true
   },
   "outputs": [],
   "source": [
    "#create connection to mysql\n",
    "host=\"localhost\"\n",
    "user=\"root\"\n",
    "passwd=\"password\"\n",
    "port = 3306\n",
    "database = 'mydatabase'\n",
    "engine = create_engine('mysql+pymysql://' + user + ':' + passwd + '@' + host + ':' + str(port) + '/' + database, echo=False)"
   ]
  },
  {
   "cell_type": "code",
   "execution_count": 25,
   "metadata": {
    "scrolled": true
   },
   "outputs": [
    {
     "data": {
      "text/html": [
       "<div>\n",
       "<style scoped>\n",
       "    .dataframe tbody tr th:only-of-type {\n",
       "        vertical-align: middle;\n",
       "    }\n",
       "\n",
       "    .dataframe tbody tr th {\n",
       "        vertical-align: top;\n",
       "    }\n",
       "\n",
       "    .dataframe thead th {\n",
       "        text-align: right;\n",
       "    }\n",
       "</style>\n",
       "<table border=\"1\" class=\"dataframe\">\n",
       "  <thead>\n",
       "    <tr style=\"text-align: right;\">\n",
       "      <th></th>\n",
       "      <th>btc_price</th>\n",
       "      <th>btc_market_cap</th>\n",
       "      <th>eth_price</th>\n",
       "      <th>eth_market_cap</th>\n",
       "      <th>eos_price</th>\n",
       "      <th>eos_market_cap</th>\n",
       "    </tr>\n",
       "    <tr>\n",
       "      <th>date</th>\n",
       "      <th></th>\n",
       "      <th></th>\n",
       "      <th></th>\n",
       "      <th></th>\n",
       "      <th></th>\n",
       "      <th></th>\n",
       "    </tr>\n",
       "  </thead>\n",
       "  <tbody>\n",
       "    <tr>\n",
       "      <th>2018-12-10</th>\n",
       "      <td>3612.05</td>\n",
       "      <td>6.290965e+10</td>\n",
       "      <td>94.99</td>\n",
       "      <td>9.852083e+09</td>\n",
       "      <td>2.02</td>\n",
       "      <td>1.828054e+09</td>\n",
       "    </tr>\n",
       "    <tr>\n",
       "      <th>2018-12-11</th>\n",
       "      <td>3497.55</td>\n",
       "      <td>6.092103e+10</td>\n",
       "      <td>91.58</td>\n",
       "      <td>9.500126e+09</td>\n",
       "      <td>1.93</td>\n",
       "      <td>1.747946e+09</td>\n",
       "    </tr>\n",
       "    <tr>\n",
       "      <th>2018-12-12</th>\n",
       "      <td>3421.46</td>\n",
       "      <td>5.960081e+10</td>\n",
       "      <td>88.61</td>\n",
       "      <td>9.194590e+09</td>\n",
       "      <td>1.85</td>\n",
       "      <td>1.676151e+09</td>\n",
       "    </tr>\n",
       "    <tr>\n",
       "      <th>2018-12-13</th>\n",
       "      <td>3487.88</td>\n",
       "      <td>6.076348e+10</td>\n",
       "      <td>90.66</td>\n",
       "      <td>9.408682e+09</td>\n",
       "      <td>1.98</td>\n",
       "      <td>1.795116e+09</td>\n",
       "    </tr>\n",
       "    <tr>\n",
       "      <th>2018-12-14</th>\n",
       "      <td>3311.75</td>\n",
       "      <td>5.770128e+10</td>\n",
       "      <td>86.63</td>\n",
       "      <td>8.992021e+09</td>\n",
       "      <td>1.85</td>\n",
       "      <td>1.675095e+09</td>\n",
       "    </tr>\n",
       "  </tbody>\n",
       "</table>\n",
       "</div>"
      ],
      "text/plain": [
       "            btc_price  btc_market_cap  eth_price  eth_market_cap  eos_price  \\\n",
       "date                                                                          \n",
       "2018-12-10    3612.05    6.290965e+10      94.99    9.852083e+09       2.02   \n",
       "2018-12-11    3497.55    6.092103e+10      91.58    9.500126e+09       1.93   \n",
       "2018-12-12    3421.46    5.960081e+10      88.61    9.194590e+09       1.85   \n",
       "2018-12-13    3487.88    6.076348e+10      90.66    9.408682e+09       1.98   \n",
       "2018-12-14    3311.75    5.770128e+10      86.63    8.992021e+09       1.85   \n",
       "\n",
       "            eos_market_cap  \n",
       "date                        \n",
       "2018-12-10    1.828054e+09  \n",
       "2018-12-11    1.747946e+09  \n",
       "2018-12-12    1.676151e+09  \n",
       "2018-12-13    1.795116e+09  \n",
       "2018-12-14    1.675095e+09  "
      ]
     },
     "execution_count": 25,
     "metadata": {},
     "output_type": "execute_result"
    }
   ],
   "source": [
    "df = pd.read_sql('SELECT * FROM cryptocurrency', con=engine)\n",
    "df = df.set_index('date')\n",
    "df.tail()"
   ]
  },
  {
   "cell_type": "code",
   "execution_count": 26,
   "metadata": {},
   "outputs": [
    {
     "data": {
      "text/html": [
       "<div>\n",
       "<style scoped>\n",
       "    .dataframe tbody tr th:only-of-type {\n",
       "        vertical-align: middle;\n",
       "    }\n",
       "\n",
       "    .dataframe tbody tr th {\n",
       "        vertical-align: top;\n",
       "    }\n",
       "\n",
       "    .dataframe thead th {\n",
       "        text-align: right;\n",
       "    }\n",
       "</style>\n",
       "<table border=\"1\" class=\"dataframe\">\n",
       "  <thead>\n",
       "    <tr style=\"text-align: right;\">\n",
       "      <th></th>\n",
       "      <th>btc_price</th>\n",
       "      <th>btc_market_cap</th>\n",
       "      <th>eth_price</th>\n",
       "      <th>eth_market_cap</th>\n",
       "      <th>eos_price</th>\n",
       "      <th>eos_market_cap</th>\n",
       "    </tr>\n",
       "  </thead>\n",
       "  <tbody>\n",
       "    <tr>\n",
       "      <th>count</th>\n",
       "      <td>4113.000000</td>\n",
       "      <td>4.113000e+03</td>\n",
       "      <td>2451.000000</td>\n",
       "      <td>2.451000e+03</td>\n",
       "      <td>1063.000000</td>\n",
       "      <td>1.063000e+03</td>\n",
       "    </tr>\n",
       "    <tr>\n",
       "      <th>mean</th>\n",
       "      <td>2295.766285</td>\n",
       "      <td>3.801865e+10</td>\n",
       "      <td>212.065461</td>\n",
       "      <td>2.067177e+10</td>\n",
       "      <td>6.144555</td>\n",
       "      <td>4.702313e+09</td>\n",
       "    </tr>\n",
       "    <tr>\n",
       "      <th>std</th>\n",
       "      <td>3428.368672</td>\n",
       "      <td>5.837937e+10</td>\n",
       "      <td>276.799041</td>\n",
       "      <td>2.711977e+10</td>\n",
       "      <td>4.405483</td>\n",
       "      <td>3.722355e+09</td>\n",
       "    </tr>\n",
       "    <tr>\n",
       "      <th>min</th>\n",
       "      <td>68.500000</td>\n",
       "      <td>7.794864e+08</td>\n",
       "      <td>0.431589</td>\n",
       "      <td>3.198436e+07</td>\n",
       "      <td>0.492790</td>\n",
       "      <td>0.000000e+00</td>\n",
       "    </tr>\n",
       "    <tr>\n",
       "      <th>25%</th>\n",
       "      <td>323.010000</td>\n",
       "      <td>4.405097e+09</td>\n",
       "      <td>10.060000</td>\n",
       "      <td>8.499900e+08</td>\n",
       "      <td>1.880000</td>\n",
       "      <td>5.542259e+08</td>\n",
       "    </tr>\n",
       "    <tr>\n",
       "      <th>50%</th>\n",
       "      <td>601.780000</td>\n",
       "      <td>8.205706e+09</td>\n",
       "      <td>48.820000</td>\n",
       "      <td>4.421225e+09</td>\n",
       "      <td>5.540000</td>\n",
       "      <td>4.771512e+09</td>\n",
       "    </tr>\n",
       "    <tr>\n",
       "      <th>75%</th>\n",
       "      <td>2716.880000</td>\n",
       "      <td>4.456278e+10</td>\n",
       "      <td>320.210000</td>\n",
       "      <td>3.050489e+10</td>\n",
       "      <td>8.670000</td>\n",
       "      <td>6.606731e+09</td>\n",
       "    </tr>\n",
       "    <tr>\n",
       "      <th>max</th>\n",
       "      <td>19475.800000</td>\n",
       "      <td>3.261873e+11</td>\n",
       "      <td>1397.480000</td>\n",
       "      <td>1.355333e+11</td>\n",
       "      <td>21.640000</td>\n",
       "      <td>1.789341e+10</td>\n",
       "    </tr>\n",
       "  </tbody>\n",
       "</table>\n",
       "</div>"
      ],
      "text/plain": [
       "          btc_price  btc_market_cap    eth_price  eth_market_cap    eos_price  \\\n",
       "count   4113.000000    4.113000e+03  2451.000000    2.451000e+03  1063.000000   \n",
       "mean    2295.766285    3.801865e+10   212.065461    2.067177e+10     6.144555   \n",
       "std     3428.368672    5.837937e+10   276.799041    2.711977e+10     4.405483   \n",
       "min       68.500000    7.794864e+08     0.431589    3.198436e+07     0.492790   \n",
       "25%      323.010000    4.405097e+09    10.060000    8.499900e+08     1.880000   \n",
       "50%      601.780000    8.205706e+09    48.820000    4.421225e+09     5.540000   \n",
       "75%     2716.880000    4.456278e+10   320.210000    3.050489e+10     8.670000   \n",
       "max    19475.800000    3.261873e+11  1397.480000    1.355333e+11    21.640000   \n",
       "\n",
       "       eos_market_cap  \n",
       "count    1.063000e+03  \n",
       "mean     4.702313e+09  \n",
       "std      3.722355e+09  \n",
       "min      0.000000e+00  \n",
       "25%      5.542259e+08  \n",
       "50%      4.771512e+09  \n",
       "75%      6.606731e+09  \n",
       "max      1.789341e+10  "
      ]
     },
     "execution_count": 26,
     "metadata": {},
     "output_type": "execute_result"
    }
   ],
   "source": [
    "df.describe()"
   ]
  },
  {
   "cell_type": "code",
   "execution_count": 38,
   "metadata": {},
   "outputs": [
    {
     "data": {
      "text/plain": [
       "<matplotlib.axes._subplots.AxesSubplot at 0x1b9769d72b0>"
      ]
     },
     "execution_count": 38,
     "metadata": {},
     "output_type": "execute_result"
    },
    {
     "data": {
      "image/png": "[encoded data removed]",
      "text/plain": [
       "<matplotlib.figure.Figure at 0x1b97544f5c0>"
      ]
     },
     "metadata": {},
     "output_type": "display_data"
    }
   ],
   "source": [
    "df['rollavg']= df['btc_price'].rolling(window =20).mean()\n",
    "df['upper'] = df['rollavg'] + 2*df['btc_price'].rolling(window=20).std()\n",
    "df['lower'] = df['rollavg'] - 2*df['btc_price'].rolling(window=20).std()\n",
    "df[['btc_price', 'rollavg','upper', 'lower']].plot(figsize=(16,6))"
   ]
  },
  {
   "cell_type": "code",
   "execution_count": null,
   "metadata": {
    "scrolled": false
   },
   "outputs": [],
   "source": []
  },
  {
   "cell_type": "code",
   "execution_count": null,
   "metadata": {
    "collapsed": true
   },
   "outputs": [],
   "source": []
  }
 ],
 "metadata": {
  "kernelspec": {
   "display_name": "Python 3",
   "language": "python",
   "name": "python3"
  },
  "language_info": {
   "codemirror_mode": {
    "name": "ipython",
    "version": 3
   },
   "file_extension": ".py",
   "mimetype": "text/x-python",
   "name": "python",
   "nbconvert_exporter": "python",
   "pygments_lexer": "ipython3",
   "version": "3.6.2"
  }
 },
 "nbformat": 4,
 "nbformat_minor": 2
}

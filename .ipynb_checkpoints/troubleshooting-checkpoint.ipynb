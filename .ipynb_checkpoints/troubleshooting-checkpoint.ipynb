{
 "cells": [
  {
   "cell_type": "code",
   "execution_count": 1,
   "metadata": {
    "collapsed": true
   },
   "outputs": [],
   "source": [
    "import numpy as np\n",
    "import pandas as pd\n",
    "import matplotlib.pyplot as plt\n",
    "import json\n",
    "import requests\n",
    "from datetime import datetime, date\n",
    "from time import mktime\n",
    "import mysql.connector\n",
    "import pymysql\n",
    "from sqlalchemy import create_engine"
   ]
  },
  {
   "cell_type": "code",
   "execution_count": 2,
   "metadata": {},
   "outputs": [],
   "source": [
    "\n",
    "#date to start query\n",
    "start = date(2012, 1,2)\n",
    "unix_start = str(int(mktime(start.timetuple()))) +'/'\n",
    "\n",
    "#date to end query\n",
    "end = pd.to_datetime('today')\n",
    "unix_end = str(int(mktime(end.timetuple()))) \n",
    "\n",
    "#api url\n",
    "url = 'https://coinmetrics.io/api/v1/get_asset_data_for_time_range/'\n",
    "\n",
    "#coin ticker\n",
    "coin = 'btc/'\n",
    "\n",
    "#data to be retreived\n",
    "data_type_price = 'price(usd)/'\n",
    "data_type_mcap = 'marketcap(usd)/'\n",
    "\n",
    "#api call\n",
    "coin_data = requests.get( url + coin+'/' + data_type_mcap + str(unix_start) + str(unix_end))"
   ]
  },
  {
   "cell_type": "code",
   "execution_count": 10,
   "metadata": {},
   "outputs": [],
   "source": [
    "coin_list = ['btc','eth', 'eos']\n",
    "#pd.options.display.int_format = '{:.9f}'.format\n",
    "new_df = pd.DataFrame(None)\n",
    "\n",
    "#converting json object\n",
    "'''data = coin_data.json()\n",
    "data = pd.DataFrame(data)\n",
    "data = pd.DataFrame(data['result'].values.tolist(), columns=['Date','Price'])'''\n",
    "\n",
    "for i in coin_list:\n",
    "\n",
    "        coin_prices = requests.get( url + i+ '/' + data_type_price + str(unix_start) + str(unix_end))\n",
    "        price_data = coin_prices.json()\n",
    "        \n",
    "        coin_mcap = requests.get( url + i+ '/' + data_type_mcap + str(unix_start) + str(unix_end))\n",
    "        mcap_data = coin_mcap.json()\n",
    "        \n",
    "        price_df = pd.DataFrame(price_data)\n",
    "        mcap_df = pd.DataFrame(mcap_data)\n",
    "        \n",
    "        price_df = pd.DataFrame(price_df['result'].values.tolist(), columns=['date',i+'_price'])\n",
    "        mcap_df = pd.DataFrame(mcap_df['result'].values.tolist(), columns=['date',i+'_market_cap'])\n",
    "        \n",
    "        \n",
    "        if new_df.empty:\n",
    "            new_df = price_df.merge(mcap_df, on =\"date\")\n",
    "        else:\n",
    "            new_df = pd.merge(new_df, price_df, on =\"date\", how='outer')\n",
    "            new_df = pd.merge(new_df, mcap_df, on =\"date\", how='outer')\n",
    "            \n",
    "new_df['date'] = pd.to_datetime(new_df['date'],unit='s')\n",
    "new_df = new_df.set_index('date')"
   ]
  },
  {
   "cell_type": "code",
   "execution_count": 11,
   "metadata": {
    "collapsed": true
   },
   "outputs": [],
   "source": [
    "#data = coin_data.json()\n",
    "#data = pd.DataFrame(data)\n",
    "#data = pd.DataFrame(data['result'].values.tolist(), columns=['Date','MarketCap'])\n",
    "#data"
   ]
  },
  {
   "cell_type": "code",
   "execution_count": 12,
   "metadata": {},
   "outputs": [
    {
     "data": {
      "text/html": [
       "<div>\n",
       "<style scoped>\n",
       "    .dataframe tbody tr th:only-of-type {\n",
       "        vertical-align: middle;\n",
       "    }\n",
       "\n",
       "    .dataframe tbody tr th {\n",
       "        vertical-align: top;\n",
       "    }\n",
       "\n",
       "    .dataframe thead th {\n",
       "        text-align: right;\n",
       "    }\n",
       "</style>\n",
       "<table border=\"1\" class=\"dataframe\">\n",
       "  <thead>\n",
       "    <tr style=\"text-align: right;\">\n",
       "      <th></th>\n",
       "      <th>btc_price</th>\n",
       "      <th>btc_market_cap</th>\n",
       "      <th>eth_price</th>\n",
       "      <th>eth_market_cap</th>\n",
       "      <th>eos_price</th>\n",
       "      <th>eos_market_cap</th>\n",
       "    </tr>\n",
       "    <tr>\n",
       "      <th>date</th>\n",
       "      <th></th>\n",
       "      <th></th>\n",
       "      <th></th>\n",
       "      <th></th>\n",
       "      <th></th>\n",
       "      <th></th>\n",
       "    </tr>\n",
       "  </thead>\n",
       "  <tbody>\n",
       "    <tr>\n",
       "      <th>2018-10-01</th>\n",
       "      <td>6619.85</td>\n",
       "      <td>114509724600</td>\n",
       "      <td>233.22</td>\n",
       "      <td>2.385585e+10</td>\n",
       "      <td>5.74</td>\n",
       "      <td>5.197660e+09</td>\n",
       "    </tr>\n",
       "    <tr>\n",
       "      <th>2018-10-02</th>\n",
       "      <td>6593.24</td>\n",
       "      <td>114062551875</td>\n",
       "      <td>231.10</td>\n",
       "      <td>2.364370e+10</td>\n",
       "      <td>5.74</td>\n",
       "      <td>5.202480e+09</td>\n",
       "    </tr>\n",
       "    <tr>\n",
       "      <th>2018-10-03</th>\n",
       "      <td>6553.86</td>\n",
       "      <td>113392236466</td>\n",
       "      <td>226.41</td>\n",
       "      <td>2.316824e+10</td>\n",
       "      <td>5.61</td>\n",
       "      <td>5.083644e+09</td>\n",
       "    </tr>\n",
       "    <tr>\n",
       "      <th>2018-10-04</th>\n",
       "      <td>6497.91</td>\n",
       "      <td>112435991226</td>\n",
       "      <td>220.45</td>\n",
       "      <td>2.256271e+10</td>\n",
       "      <td>5.63</td>\n",
       "      <td>5.098015e+09</td>\n",
       "    </tr>\n",
       "    <tr>\n",
       "      <th>2018-10-05</th>\n",
       "      <td>6574.15</td>\n",
       "      <td>113767335788</td>\n",
       "      <td>222.27</td>\n",
       "      <td>2.275356e+10</td>\n",
       "      <td>5.79</td>\n",
       "      <td>5.247947e+09</td>\n",
       "    </tr>\n",
       "  </tbody>\n",
       "</table>\n",
       "</div>"
      ],
      "text/plain": [
       "            btc_price  btc_market_cap  eth_price  eth_market_cap  eos_price  \\\n",
       "date                                                                          \n",
       "2018-10-01    6619.85    114509724600     233.22    2.385585e+10       5.74   \n",
       "2018-10-02    6593.24    114062551875     231.10    2.364370e+10       5.74   \n",
       "2018-10-03    6553.86    113392236466     226.41    2.316824e+10       5.61   \n",
       "2018-10-04    6497.91    112435991226     220.45    2.256271e+10       5.63   \n",
       "2018-10-05    6574.15    113767335788     222.27    2.275356e+10       5.79   \n",
       "\n",
       "            eos_market_cap  \n",
       "date                        \n",
       "2018-10-01    5.197660e+09  \n",
       "2018-10-02    5.202480e+09  \n",
       "2018-10-03    5.083644e+09  \n",
       "2018-10-04    5.098015e+09  \n",
       "2018-10-05    5.247947e+09  "
      ]
     },
     "execution_count": 12,
     "metadata": {},
     "output_type": "execute_result"
    }
   ],
   "source": [
    "new_df.tail()"
   ]
  },
  {
   "cell_type": "code",
   "execution_count": null,
   "metadata": {
    "collapsed": true
   },
   "outputs": [],
   "source": []
  }
 ],
 "metadata": {
  "kernelspec": {
   "display_name": "Python 3",
   "language": "python",
   "name": "python3"
  },
  "language_info": {
   "codemirror_mode": {
    "name": "ipython",
    "version": 3
   },
   "file_extension": ".py",
   "mimetype": "text/x-python",
   "name": "python",
   "nbconvert_exporter": "python",
   "pygments_lexer": "ipython3",
   "version": "3.6.2"
  }
 },
 "nbformat": 4,
 "nbformat_minor": 2
}

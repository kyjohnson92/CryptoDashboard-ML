{
 "cells": [
  {
   "cell_type": "code",
   "execution_count": 1,
   "metadata": {
    "collapsed": true
   },
   "outputs": [],
   "source": [
    "import numpy as np\n",
    "import pandas as pd\n",
    "import matplotlib.pyplot as plt\n",
    "import json\n",
    "import requests\n",
    "from datetime import datetime, date\n",
    "from time import mktime\n",
    "import mysql.connector\n",
    "import pymysql\n",
    "from sqlalchemy import create_engine"
   ]
  },
  {
   "cell_type": "code",
   "execution_count": 2,
   "metadata": {
    "collapsed": true
   },
   "outputs": [],
   "source": [
    "\n",
    "#date to start query\n",
    "start = date(2012, 1,2)\n",
    "unix_start = str(int(mktime(start.timetuple()))) +'/'\n",
    "\n",
    "#date to end query\n",
    "end = pd.to_datetime('today')\n",
    "unix_end = str(int(mktime(end.timetuple()))) \n",
    "\n",
    "#api url\n",
    "url = 'https://coinmetrics.io/api/v1/get_asset_data_for_time_range/'\n",
    "\n",
    "#coin ticker\n",
    "coin = 'btc/'\n",
    "\n",
    "#data to be retreived\n",
    "data_type_price = 'price(usd)/'\n",
    "data_type_mcap = 'marketcap(usd)/'\n",
    "\n",
    "#api call\n",
    "coin_data = requests.get( url + coin+'/' + data_type_mcap + str(unix_start) + str(unix_end))"
   ]
  },
  {
   "cell_type": "code",
   "execution_count": 3,
   "metadata": {
    "collapsed": true
   },
   "outputs": [],
   "source": [
    "coin_list = ['btc','eth', 'eos']\n",
    "#pd.options.display.int_format = '{:.9f}'.format\n",
    "new_df = pd.DataFrame(None)\n",
    "\n",
    "#converting json object\n",
    "'''data = coin_data.json()\n",
    "data = pd.DataFrame(data)\n",
    "data = pd.DataFrame(data['result'].values.tolist(), columns=['Date','Price'])'''\n",
    "\n",
    "for i in coin_list:\n",
    "\n",
    "        coin_prices = requests.get( url + i+ '/' + data_type_price + str(unix_start) + str(unix_end))\n",
    "        price_data = coin_prices.json()\n",
    "        \n",
    "        coin_mcap = requests.get( url + i+ '/' + data_type_mcap + str(unix_start) + str(unix_end))\n",
    "        mcap_data = coin_mcap.json()\n",
    "        \n",
    "        price_df = pd.DataFrame(price_data)\n",
    "        mcap_df = pd.DataFrame(mcap_data)\n",
    "        \n",
    "        price_df = pd.DataFrame(price_df['result'].values.tolist(), columns=['date',i+'_price'])\n",
    "        mcap_df = pd.DataFrame(mcap_df['result'].values.tolist(), columns=['date',i+'_market_cap'])\n",
    "        \n",
    "        \n",
    "        if new_df.empty:\n",
    "            new_df = price_df.merge(mcap_df, on =\"date\")\n",
    "        else:\n",
    "            new_df = pd.merge(new_df, price_df, on =\"date\", how='outer')\n",
    "            new_df = pd.merge(new_df, mcap_df, on =\"date\", how='outer')\n",
    "            \n",
    "new_df['date'] = pd.to_datetime(new_df['date'],unit='s')\n",
    "new_df = new_df.set_index('date')"
   ]
  },
  {
   "cell_type": "code",
   "execution_count": 4,
   "metadata": {
    "collapsed": true
   },
   "outputs": [],
   "source": [
    "#data = coin_data.json()\n",
    "#data = pd.DataFrame(data)\n",
    "#data = pd.DataFrame(data['result'].values.tolist(), columns=['Date','MarketCap'])\n",
    "#data"
   ]
  },
  {
   "cell_type": "code",
   "execution_count": 5,
   "metadata": {},
   "outputs": [
    {
     "data": {
      "text/html": [
       "<div>\n",
       "<style scoped>\n",
       "    .dataframe tbody tr th:only-of-type {\n",
       "        vertical-align: middle;\n",
       "    }\n",
       "\n",
       "    .dataframe tbody tr th {\n",
       "        vertical-align: top;\n",
       "    }\n",
       "\n",
       "    .dataframe thead th {\n",
       "        text-align: right;\n",
       "    }\n",
       "</style>\n",
       "<table border=\"1\" class=\"dataframe\">\n",
       "  <thead>\n",
       "    <tr style=\"text-align: right;\">\n",
       "      <th></th>\n",
       "      <th>btc_price</th>\n",
       "      <th>btc_market_cap</th>\n",
       "      <th>eth_price</th>\n",
       "      <th>eth_market_cap</th>\n",
       "      <th>eos_price</th>\n",
       "      <th>eos_market_cap</th>\n",
       "    </tr>\n",
       "    <tr>\n",
       "      <th>date</th>\n",
       "      <th></th>\n",
       "      <th></th>\n",
       "      <th></th>\n",
       "      <th></th>\n",
       "      <th></th>\n",
       "      <th></th>\n",
       "    </tr>\n",
       "  </thead>\n",
       "  <tbody>\n",
       "    <tr>\n",
       "      <th>2018-12-09</th>\n",
       "      <td>3473.23</td>\n",
       "      <td>6.048663e+10</td>\n",
       "      <td>92.04</td>\n",
       "      <td>9.544932e+09</td>\n",
       "      <td>1.84</td>\n",
       "      <td>1.669327e+09</td>\n",
       "    </tr>\n",
       "    <tr>\n",
       "      <th>2018-12-10</th>\n",
       "      <td>3612.05</td>\n",
       "      <td>6.290965e+10</td>\n",
       "      <td>94.99</td>\n",
       "      <td>9.852083e+09</td>\n",
       "      <td>2.02</td>\n",
       "      <td>1.828054e+09</td>\n",
       "    </tr>\n",
       "    <tr>\n",
       "      <th>2018-12-11</th>\n",
       "      <td>3497.55</td>\n",
       "      <td>6.092103e+10</td>\n",
       "      <td>91.58</td>\n",
       "      <td>9.500126e+09</td>\n",
       "      <td>1.93</td>\n",
       "      <td>1.747946e+09</td>\n",
       "    </tr>\n",
       "    <tr>\n",
       "      <th>2018-12-12</th>\n",
       "      <td>3421.46</td>\n",
       "      <td>5.960081e+10</td>\n",
       "      <td>88.61</td>\n",
       "      <td>9.194590e+09</td>\n",
       "      <td>1.85</td>\n",
       "      <td>1.676151e+09</td>\n",
       "    </tr>\n",
       "    <tr>\n",
       "      <th>2018-12-13</th>\n",
       "      <td>3487.88</td>\n",
       "      <td>6.076348e+10</td>\n",
       "      <td>90.66</td>\n",
       "      <td>9.408682e+09</td>\n",
       "      <td>1.98</td>\n",
       "      <td>1.795116e+09</td>\n",
       "    </tr>\n",
       "  </tbody>\n",
       "</table>\n",
       "</div>"
      ],
      "text/plain": [
       "            btc_price  btc_market_cap  eth_price  eth_market_cap  eos_price  \\\n",
       "date                                                                          \n",
       "2018-12-09    3473.23    6.048663e+10      92.04    9.544932e+09       1.84   \n",
       "2018-12-10    3612.05    6.290965e+10      94.99    9.852083e+09       2.02   \n",
       "2018-12-11    3497.55    6.092103e+10      91.58    9.500126e+09       1.93   \n",
       "2018-12-12    3421.46    5.960081e+10      88.61    9.194590e+09       1.85   \n",
       "2018-12-13    3487.88    6.076348e+10      90.66    9.408682e+09       1.98   \n",
       "\n",
       "            eos_market_cap  \n",
       "date                        \n",
       "2018-12-09    1.669327e+09  \n",
       "2018-12-10    1.828054e+09  \n",
       "2018-12-11    1.747946e+09  \n",
       "2018-12-12    1.676151e+09  \n",
       "2018-12-13    1.795116e+09  "
      ]
     },
     "execution_count": 5,
     "metadata": {},
     "output_type": "execute_result"
    }
   ],
   "source": [
    "new_df.tail()"
   ]
  },
  {
   "cell_type": "code",
   "execution_count": null,
   "metadata": {
    "collapsed": true
   },
   "outputs": [],
   "source": []
  }
 ],
 "metadata": {
  "kernelspec": {
   "display_name": "Python 3",
   "language": "python",
   "name": "python3"
  },
  "language_info": {
   "codemirror_mode": {
    "name": "ipython",
    "version": 3
   },
   "file_extension": ".py",
   "mimetype": "text/x-python",
   "name": "python",
   "nbconvert_exporter": "python",
   "pygments_lexer": "ipython3",
   "version": "3.6.2"
  }
 },
 "nbformat": 4,
 "nbformat_minor": 2
}

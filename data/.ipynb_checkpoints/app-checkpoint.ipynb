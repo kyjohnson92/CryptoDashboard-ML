{
 "cells": [
  {
   "cell_type": "code",
   "execution_count": 1,
   "metadata": {},
   "outputs": [],
   "source": [
    "from flask import Flask, jsonify,render_template\n",
    "from flask_mysqldb import MySQL\n",
    "import json\n",
    "import mysql.connector\n",
    "import pymysql\n",
    "from sqlalchemy import create_engine, Table, Column, Integer,DateTime,String, MetaData, inspect, Float\n",
    "from sqlalchemy.ext.automap import automap_base\n",
    "from sqlalchemy.ext.declarative import declarative_base\n",
    "from sqlalchemy.orm import Session"
   ]
  },
  {
   "cell_type": "code",
   "execution_count": 2,
   "metadata": {},
   "outputs": [],
   "source": [
    "host=\"localhost\"\n",
    "user=\"root\"\n",
    "passwd=\"password\"\n",
    "db = 'mydatabase'\n",
    "port = 3306\n",
    "engine = create_engine('mysql+pymysql://' + user + ':' + passwd + '@' + host + ':' + str(port) + '/' + db, echo=False)\n"
   ]
  },
  {
   "cell_type": "code",
   "execution_count": 7,
   "metadata": {},
   "outputs": [],
   "source": [
    "Base = declarative_base()\n",
    "Base.metadata.reflect(engine)"
   ]
  },
  {
   "cell_type": "code",
   "execution_count": null,
   "metadata": {
    "collapsed": true
   },
   "outputs": [],
   "source": []
  },
  {
   "cell_type": "code",
   "execution_count": null,
   "metadata": {
    "collapsed": true
   },
   "outputs": [],
   "source": []
  },
  {
   "cell_type": "code",
   "execution_count": null,
   "metadata": {
    "collapsed": true
   },
   "outputs": [],
   "source": []
  },
  {
   "cell_type": "code",
   "execution_count": null,
   "metadata": {
    "collapsed": true
   },
   "outputs": [],
   "source": []
  },
  {
   "cell_type": "code",
   "execution_count": null,
   "metadata": {
    "collapsed": true
   },
   "outputs": [],
   "source": []
  },
  {
   "cell_type": "code",
   "execution_count": 4,
   "metadata": {},
   "outputs": [
    {
     "data": {
      "text/plain": [
       "[]"
      ]
     },
     "execution_count": 4,
     "metadata": {},
     "output_type": "execute_result"
    }
   ],
   "source": [
    "Base = automap_base()\n",
    "Base.prepare(engine, reflect=True)\n",
    "Base.classes.keys()\n",
    "#Crypto = Base.classes.cryptocurrency\n",
    "#session = Session(engine)\n",
    "#inspector = inspect(engine)"
   ]
  },
  {
   "cell_type": "code",
   "execution_count": null,
   "metadata": {},
   "outputs": [],
   "source": [
    "for row in session.query(Crypto, Crypto.date).limit(5).all():\n",
    "    print(row)"
   ]
  },
  {
   "cell_type": "code",
   "execution_count": null,
   "metadata": {},
   "outputs": [],
   "source": [
    "'''app = Flask(__name__)\n",
    "app.config['MYSQL_HOST'] = host\n",
    "app.config['MYSQL_USER'] = user\n",
    "app.config['MYSQL_PASSWORD'] = passwd\n",
    "app.config['MYSQL_DB'] = db\n",
    "mysql = MySQL(app)'''"
   ]
  },
  {
   "cell_type": "code",
   "execution_count": null,
   "metadata": {
    "scrolled": false
   },
   "outputs": [],
   "source": [
    "app = Flask(__name__)"
   ]
  },
  {
   "cell_type": "code",
   "execution_count": null,
   "metadata": {
    "collapsed": true
   },
   "outputs": [],
   "source": [
    "@app.route(\"/\")\n",
    "def index():\n",
    "    return render_template(\"index.html\")"
   ]
  },
  {
   "cell_type": "code",
   "execution_count": null,
   "metadata": {},
   "outputs": [],
   "source": [
    "'''@app.route(\"/data\")\n",
    "def datareturn():\n",
    "    cur = mysql.connection.cursor()\n",
    "    cur.execute('''#SELECT * FROM cryptocurrency\n",
    "''')\n",
    "    row_headers=[x[0] for x in cur.description]\n",
    "    rv = cur.fetchall()\n",
    "    json_data=[]\n",
    "    for result in rv:\n",
    "        json_data.append(dict(zip(row_headers,result)))\n",
    "    return jsonify(json_data)'''"
   ]
  },
  {
   "cell_type": "code",
   "execution_count": null,
   "metadata": {},
   "outputs": [],
   "source": [
    "@app.route(\"/data\")\n",
    "def datareturn():\n",
    "    json_data= []\n",
    "    for row in session.query(Crypto.date, Crypto.btc_price, Crypto.btc_market_cap, Crypto.eth_price,Crypto.eth_market_cap,Crypto.eos_price,Crypto.eos_market_cap).all():\n",
    "        json_data.append(row[0])\n",
    "        json_data.append(float(row[1]))\n",
    "        json_data.append(float(row[2]))\n",
    "        json_data.append(float(row[3]))\n",
    "        json_data.append(float(row[4]))\n",
    "        json_data.append(float(row[5]))\n",
    "        json_data.append(float(row[6]))\n",
    "    return jsonify(json_data)"
   ]
  },
  {
   "cell_type": "code",
   "execution_count": null,
   "metadata": {},
   "outputs": [],
   "source": [
    "if __name__==\"__main__\":\n",
    "    app.run(debug=True, use_reloader=False)"
   ]
  },
  {
   "cell_type": "code",
   "execution_count": null,
   "metadata": {},
   "outputs": [],
   "source": []
  },
  {
   "cell_type": "code",
   "execution_count": null,
   "metadata": {
    "collapsed": true
   },
   "outputs": [],
   "source": []
  }
 ],
 "metadata": {
  "kernelspec": {
   "display_name": "Python 3",
   "language": "python",
   "name": "python3"
  },
  "language_info": {
   "codemirror_mode": {
    "name": "ipython",
    "version": 3
   },
   "file_extension": ".py",
   "mimetype": "text/x-python",
   "name": "python",
   "nbconvert_exporter": "python",
   "pygments_lexer": "ipython3",
   "version": "3.6.2"
  }
 },
 "nbformat": 4,
 "nbformat_minor": 2
}
